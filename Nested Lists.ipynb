{
 "cells": [
  {
   "cell_type": "code",
   "execution_count": 1,
   "metadata": {
    "ExecuteTime": {
     "end_time": "2020-09-23T08:07:03.675771Z",
     "start_time": "2020-09-23T08:06:14.987750Z"
    }
   },
   "outputs": [
    {
     "name": "stdout",
     "output_type": "stream",
     "text": [
      "a\n",
      "-25.001\n",
      "b\n",
      "-25.0001\n",
      "c\n",
      "-25.000\n",
      "d\n",
      "-25.0\n"
     ]
    }
   ],
   "source": [
    "Score = []\n",
    "Name = []\n",
    "output = []\n",
    "for _ in range(int(input())):\n",
    "    name = input()\n",
    "    score = float(input())\n",
    "    Score.append(score)\n",
    "    Name.append(name)\n",
    "Score_new = Score.copy()\n",
    "Score_new1 = list(set(Score_new))\n",
    "Score_new1.sort()\n",
    "for i in range(0,len(Score)):\n",
    "    if Score[i]== Score_new1[1]:\n",
    "        output.append(Name[i])\n",
    "        if len(output)>1:\n",
    "            output.sort()"
   ]
  }
 ],
 "metadata": {
  "kernelspec": {
   "display_name": "Python 3",
   "language": "python",
   "name": "python3"
  },
  "language_info": {
   "codemirror_mode": {
    "name": "ipython",
    "version": 3
   },
   "file_extension": ".py",
   "mimetype": "text/x-python",
   "name": "python",
   "nbconvert_exporter": "python",
   "pygments_lexer": "ipython3",
   "version": "3.7.6"
  },
  "latex_envs": {
   "LaTeX_envs_menu_present": true,
   "autoclose": false,
   "autocomplete": true,
   "bibliofile": "biblio.bib",
   "cite_by": "apalike",
   "current_citInitial": 1,
   "eqLabelWithNumbers": true,
   "eqNumInitial": 1,
   "hotkeys": {
    "equation": "Ctrl-E",
    "itemize": "Ctrl-I"
   },
   "labels_anchors": false,
   "latex_user_defs": false,
   "report_style_numbering": false,
   "user_envs_cfg": false
  }
 },
 "nbformat": 4,
 "nbformat_minor": 4
}
